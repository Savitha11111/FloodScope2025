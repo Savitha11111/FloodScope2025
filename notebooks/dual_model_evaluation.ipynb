{
  "cells": [
    {
      "cell_type": "markdown",
      "metadata": {},
      "source": [
        "# Dual-Model Flood Mapping Evaluation\n",
        "This notebook orchestrates the evaluation of the Prithvi (Sentinel-2) and AI4Flood (Sentinel-1) models, including cloud-aware switching, threshold optimisation, and publication-ready figures."
      ]
    },
    {
      "cell_type": "code",
      "execution_count": null,
      "metadata": {},
      "outputs": [],
      "source": [
        "from evaluation.experiments import EvaluationSample, summarise_threshold_sweep\n",
        "from services.cloud_analyzer import CloudAnalyzer\n",
        "import json\n",
        "from pathlib import Path\n",
        "\n",
        "# TODO: Replace with actual dataset loaders once processed datasets are available.\n",
        "samples = []  # Populate with EvaluationSample instances.\n",
        "thresholds = [0.1, 0.2, 0.3, 0.4, 0.5]\n",
        "results = summarise_threshold_sweep(samples, thresholds)\n",
        "results"
      ]
    }
  ],
  "metadata": {
    "kernelspec": {
      "display_name": "Python 3",
      "language": "python",
      "name": "python3"
    },
    "language_info": {
      "codemirror_mode": {
        "name": "ipython",
        "version": 3
      },
      "file_extension": ".py",
      "mimetype": "text/x-python",
      "name": "python",
      "nbconvert_exporter": "python",
      "pygments_lexer": "ipython3",
      "version": "3.10"
    }
  },
  "nbformat": 4,
  "nbformat_minor": 5
}